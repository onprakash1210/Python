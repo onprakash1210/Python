{
 "cells": [
  {
   "cell_type": "code",
   "execution_count": 10,
   "id": "eeee0c39",
   "metadata": {},
   "outputs": [
    {
     "name": "stdout",
     "output_type": "stream",
     "text": [
      "['False', 'None', 'True', 'and', 'as', 'assert', 'async', 'await', 'break', 'class', 'continue', 'def', 'del', 'elif', 'else', 'except', 'finally', 'for', 'from', 'global', 'if', 'import', 'in', 'is', 'lambda', 'nonlocal', 'not', 'or', 'pass', 'raise', 'return', 'try', 'while', 'with', 'yield']\n",
      "Total no of keywords:  35\n"
     ]
    }
   ],
   "source": [
    "#PYTHON KEYWORDS\n",
    "\"\"\"\n",
    "Keywords are the reserved words in python \n",
    "we cannot use keywords as a variable, function name or any other identifier\n",
    "keywords are case senditive\n",
    "\"\"\"\n",
    "\n",
    "\n",
    "#Get all keywords in python\n",
    "import keyword\n",
    "print(keyword.kwlist)\n",
    "print('Total no of keywords: ',  len(keyword.kwlist))"
   ]
  },
  {
   "cell_type": "code",
   "execution_count": 11,
   "id": "4d9d9aa7",
   "metadata": {},
   "outputs": [
    {
     "ename": "SyntaxError",
     "evalue": "invalid syntax (4123450394.py, line 12)",
     "output_type": "error",
     "traceback": [
      "\u001b[1;36m  Cell \u001b[1;32mIn[11], line 12\u001b[1;36m\u001b[0m\n\u001b[1;33m    global = 1\u001b[0m\n\u001b[1;37m           ^\u001b[0m\n\u001b[1;31mSyntaxError\u001b[0m\u001b[1;31m:\u001b[0m invalid syntax\n"
     ]
    }
   ],
   "source": [
    "#IDENTIFIERS \n",
    "\"\"\"\n",
    "Identifier is the name given to entities like class, functions, variables etc in python\n",
    "It helps differentiating one entity from another.\n",
    "\n",
    "Rules for Identifiers:\n",
    "1.Identifiers can be a combination of letters in lowercase(a to z) or upper case(A to Z) or digits(0 -9) or an underscore(_).\n",
    "2.an Identifier cannot start with a digit. 1variable is invalid, but variable1 is perfectly fine.\n",
    "3.Keywords cannot be used as identifiers.\n",
    "\"\"\"\n",
    "\n",
    "global = 1\n",
    "print(global)"
   ]
  },
  {
   "cell_type": "code",
   "execution_count": 15,
   "id": "17df6db7",
   "metadata": {},
   "outputs": [
    {
     "ename": "SyntaxError",
     "evalue": "invalid syntax (1234439035.py, line 2)",
     "output_type": "error",
     "traceback": [
      "\u001b[1;36m  Cell \u001b[1;32mIn[15], line 2\u001b[1;36m\u001b[0m\n\u001b[1;33m    a@ = 10;\u001b[0m\n\u001b[1;37m       ^\u001b[0m\n\u001b[1;31mSyntaxError\u001b[0m\u001b[1;31m:\u001b[0m invalid syntax\n"
     ]
    }
   ],
   "source": [
    "# We cannot use special symbols like ! @ # $ % etc.. as an identifier\n",
    "a@ = 10;"
   ]
  },
  {
   "cell_type": "code",
   "execution_count": null,
   "id": "02d9f711",
   "metadata": {},
   "outputs": [],
   "source": []
  }
 ],
 "metadata": {
  "kernelspec": {
   "display_name": "Python 3 (ipykernel)",
   "language": "python",
   "name": "python3"
  },
  "language_info": {
   "codemirror_mode": {
    "name": "ipython",
    "version": 3
   },
   "file_extension": ".py",
   "mimetype": "text/x-python",
   "name": "python",
   "nbconvert_exporter": "python",
   "pygments_lexer": "ipython3",
   "version": "3.11.3"
  }
 },
 "nbformat": 4,
 "nbformat_minor": 5
}
